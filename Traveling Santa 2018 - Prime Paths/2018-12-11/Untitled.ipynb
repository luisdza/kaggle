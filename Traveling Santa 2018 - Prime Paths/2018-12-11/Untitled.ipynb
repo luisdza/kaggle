{
 "cells": [
  {
   "cell_type": "code",
   "execution_count": 1,
   "metadata": {},
   "outputs": [
    {
     "data": {
      "text/plain": [
       "446884407.5212112"
      ]
     },
     "execution_count": 1,
     "metadata": {},
     "output_type": "execute_result"
    }
   ],
   "source": [
    "#from: https://www.kaggle.com/jazivxt/winter-avalanche-2\n",
    "#Using Content from and probably others too\n",
    "#https://www.kaggle.com/matthewa313/flip-it\n",
    "#https://www.kaggle.com/byfone/riffling-for-fine-selection\n",
    "\n",
    "import numpy as np\n",
    "import pandas as pd\n",
    "from sympy import primerange\n",
    "from itertools import permutations\n",
    "from multiprocessing import Pool, cpu_count\n",
    "\n",
    "def score_tour(tour):\n",
    "    df = cities.reindex(tour + [0]).reset_index()\n",
    "    df['prime'] = df.CityId.isin(primes).astype(int)\n",
    "    df['dist'] = np.hypot(df.X - df.X.shift(-1), df.Y - df.Y.shift(-1))\n",
    "    df['penalty'] = df['dist'][9::10] * (1 - df['prime'][9::10]) * 0.1\n",
    "    return df.dist.sum() + df.penalty.sum()\n",
    "\n",
    "cities = pd.read_csv('../cities.csv')\n",
    "primes = list(primerange(0, len(cities['CityId'].values)))\n",
    "primes += [0,1]\n",
    "cities['NotPrime'] = np.abs(cities.CityId.isin(primes).astype(int) - 1) * 0.1 + 1\n",
    "dPaths = {v:{'X': x, 'Y': y, 'penalty': z} for v, x, y, z in cities[['CityId','X','Y','NotPrime']].values}\n",
    "cities = pd.read_csv('../cities.csv', index_col=['CityId'])\n",
    "tour = pd.read_csv('../sample_submission.csv')['Path'].tolist()\n",
    "score_tour(tour)"
   ]
  },
  {
   "cell_type": "code",
   "execution_count": 2,
   "metadata": {
    "collapsed": true
   },
   "outputs": [],
   "source": [
    "def bscore(cand, is_tenth):\n",
    "    s = 0.0\n",
    "    for j in range(len(cand)-1):\n",
    "        p = np.hypot(dPaths[cand[j]]['X'] - dPaths[cand[j+1]]['X'], dPaths[cand[j]]['Y'] - dPaths[cand[j+1]]['Y'])\n",
    "        if is_tenth[j]:\n",
    "            p *= dPaths[j]['penalty']\n",
    "        s += p\n",
    "    return s\n",
    "\n",
    "def riffle2(batch, i):\n",
    "    is_tenth = [(j+1)%10==0 for j in range(i,i+n)]\n",
    "    best = batch\n",
    "    for per in permutations(batch[1:-1]):\n",
    "        perm = [batch[0]]+list(per)+[batch[-1]]\n",
    "        if bscore(perm, is_tenth) < bscore(best, is_tenth):\n",
    "            best = perm\n",
    "    if best != batch:\n",
    "        return best\n",
    "    else:\n",
    "        return None\n",
    "\n",
    "def riffle(split_tour1):\n",
    "    order, batch = split_tour1\n",
    "    for i in range(0, len(batch)-n+1):\n",
    "        r = riffle2(batch[i:i+n],i)\n",
    "        if r:\n",
    "            print(r,i)\n",
    "            batch = batch[:i] + r + batch[i+n:]\n",
    "    return [order, batch]\n",
    "\n",
    "def multi_riffle(t):\n",
    "    ret_d = {}\n",
    "    p = Pool(cpu_count())\n",
    "    t = np.array_split(t, 10000)\n",
    "    t = [[i,list(t)] for i, t in enumerate(t)]\n",
    "    ret = p.map(riffle, t)\n",
    "    for i in range(len(ret)):\n",
    "        ret_d[ret[i][0]] = ret[i][1]\n",
    "    ret = []\n",
    "    for i in range(len(ret_d)):\n",
    "        ret += ret_d[i]\n",
    "    return ret"
   ]
  },
  {
   "cell_type": "code",
   "execution_count": null,
   "metadata": {
    "collapsed": true
   },
   "outputs": [],
   "source": [
    "%%time\n",
    "n=8\n",
    "tour = multi_riffle(tour)\n",
    "pd.DataFrame({'Path': list(tour)}).to_csv('submission.csv', index=False)\n",
    "print(score_tour(tour))"
   ]
  },
  {
   "cell_type": "code",
   "execution_count": null,
   "metadata": {
    "collapsed": true
   },
   "outputs": [],
   "source": []
  }
 ],
 "metadata": {
  "kernelspec": {
   "display_name": "Python [default]",
   "language": "python",
   "name": "python2"
  },
  "language_info": {
   "codemirror_mode": {
    "name": "ipython",
    "version": 2
   },
   "file_extension": ".py",
   "mimetype": "text/x-python",
   "name": "python",
   "nbconvert_exporter": "python",
   "pygments_lexer": "ipython2",
   "version": "2.7.13"
  }
 },
 "nbformat": 4,
 "nbformat_minor": 2
}
